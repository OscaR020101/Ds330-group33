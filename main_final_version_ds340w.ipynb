{
 "cells": [
  {
   "cell_type": "code",
   "execution_count": 1,
   "id": "52288804",
   "metadata": {},
   "outputs": [
    {
     "name": "stderr",
     "output_type": "stream",
     "text": [
      "2023-04-11 16:21:34.432898: I tensorflow/core/platform/cpu_feature_guard.cc:193] This TensorFlow binary is optimized with oneAPI Deep Neural Network Library (oneDNN) to use the following CPU instructions in performance-critical operations:  AVX2 FMA\n",
      "To enable them in other operations, rebuild TensorFlow with the appropriate compiler flags.\n"
     ]
    }
   ],
   "source": [
    "# Data imports\n",
    "import re\n",
    "import numpy as np\n",
    "import pandas as pd\n",
    "import matplotlib.pyplot as plt\n",
    "\n",
    "# # ML imports\n",
    "from sklearn.model_selection import train_test_split\n",
    "from tensorflow.keras.models import Sequential, load_model\n",
    "from tensorflow.keras.layers import Dense, Dropout, LSTM, GRU, Embedding\n",
    "from tensorflow.keras.preprocessing.text import Tokenizer\n",
    "from tensorflow.keras.preprocessing.sequence import pad_sequences\n",
    "from models.lstm import Lstm\n",
    "from models.gru import Gru\n",
    "#import pre-defined confusion matrix funcion\n",
    "from models.confusionMatrix import ConfusionMatrix"
   ]
  },
  {
   "cell_type": "code",
   "execution_count": 2,
   "id": "88b459ff",
   "metadata": {},
   "outputs": [
    {
     "name": "stdout",
     "output_type": "stream",
     "text": [
      "(5791, 2)\n"
     ]
    },
    {
     "data": {
      "text/html": [
       "<div>\n",
       "<style scoped>\n",
       "    .dataframe tbody tr th:only-of-type {\n",
       "        vertical-align: middle;\n",
       "    }\n",
       "\n",
       "    .dataframe tbody tr th {\n",
       "        vertical-align: top;\n",
       "    }\n",
       "\n",
       "    .dataframe thead th {\n",
       "        text-align: right;\n",
       "    }\n",
       "</style>\n",
       "<table border=\"1\" class=\"dataframe\">\n",
       "  <thead>\n",
       "    <tr style=\"text-align: right;\">\n",
       "      <th></th>\n",
       "      <th>Text</th>\n",
       "      <th>Sentiment</th>\n",
       "    </tr>\n",
       "  </thead>\n",
       "  <tbody>\n",
       "    <tr>\n",
       "      <th>0</th>\n",
       "      <td>an no serious resistance till 1000 1017  just ...</td>\n",
       "      <td>1</td>\n",
       "    </tr>\n",
       "    <tr>\n",
       "      <th>1</th>\n",
       "      <td>zoom long 76 looking for continuationmomo</td>\n",
       "      <td>1</td>\n",
       "    </tr>\n",
       "    <tr>\n",
       "      <th>2</th>\n",
       "      <td>twx  ong  3859 trailing stop  4471 from 4 prio...</td>\n",
       "      <td>1</td>\n",
       "    </tr>\n",
       "    <tr>\n",
       "      <th>3</th>\n",
       "      <td>us crude prices are on track to hit a new 18ye...</td>\n",
       "      <td>-1</td>\n",
       "    </tr>\n",
       "    <tr>\n",
       "      <th>4</th>\n",
       "      <td>jpm breaking higher from the tight consolidati...</td>\n",
       "      <td>1</td>\n",
       "    </tr>\n",
       "    <tr>\n",
       "      <th>5</th>\n",
       "      <td>dont shoot the mailman point  figure target aa...</td>\n",
       "      <td>-1</td>\n",
       "    </tr>\n",
       "    <tr>\n",
       "      <th>6</th>\n",
       "      <td>vxy another ong bpop snort 9s next week on vxy...</td>\n",
       "      <td>1</td>\n",
       "    </tr>\n",
       "    <tr>\n",
       "      <th>7</th>\n",
       "      <td>dndn turning green bull hammer close</td>\n",
       "      <td>1</td>\n",
       "    </tr>\n",
       "    <tr>\n",
       "      <th>8</th>\n",
       "      <td>ceg ooking to add to soon</td>\n",
       "      <td>1</td>\n",
       "    </tr>\n",
       "    <tr>\n",
       "      <th>9</th>\n",
       "      <td>aap emember last friday in the last 5 minutes ...</td>\n",
       "      <td>-1</td>\n",
       "    </tr>\n",
       "  </tbody>\n",
       "</table>\n",
       "</div>"
      ],
      "text/plain": [
       "                                                Text  Sentiment\n",
       "0  an no serious resistance till 1000 1017  just ...          1\n",
       "1        zoom long 76 looking for continuationmomo            1\n",
       "2  twx  ong  3859 trailing stop  4471 from 4 prio...          1\n",
       "3  us crude prices are on track to hit a new 18ye...         -1\n",
       "4  jpm breaking higher from the tight consolidati...          1\n",
       "5  dont shoot the mailman point  figure target aa...         -1\n",
       "6  vxy another ong bpop snort 9s next week on vxy...          1\n",
       "7               dndn turning green bull hammer close          1\n",
       "8                          ceg ooking to add to soon          1\n",
       "9  aap emember last friday in the last 5 minutes ...         -1"
      ]
     },
     "execution_count": 2,
     "metadata": {},
     "output_type": "execute_result"
    }
   ],
   "source": [
    "# read data\n",
    "df = pd.read_csv(\"apis/tweet_data.csv\")\n",
    "\n",
    "# sample data\n",
    "df = df.sample(frac=1).reset_index(drop=True)\n",
    "\n",
    "# clean tweet text\n",
    "df['Text'] = df['Text'].apply(lambda x: x.lower())  # transform text to lowercase\n",
    "df['Text'] = df['Text'].apply(lambda x: re.sub('[^a-zA-z0-9\\s]', '', x))\n",
    "print(df.shape)\n",
    "df.head(10)"
   ]
  },
  {
   "cell_type": "code",
   "execution_count": 3,
   "id": "414cd237",
   "metadata": {},
   "outputs": [
    {
     "data": {
      "text/plain": [
       "<AxesSubplot:>"
      ]
     },
     "execution_count": 3,
     "metadata": {},
     "output_type": "execute_result"
    },
    {
     "data": {
      "image/png": "[encoded data removed]",
      "text/plain": [
       "<Figure size 432x288 with 1 Axes>"
      ]
     },
     "metadata": {
      "needs_background": "light"
     },
     "output_type": "display_data"
    }
   ],
   "source": [
    "df['Sentiment'].value_counts().sort_index().plot.bar()"
   ]
  },
  {
   "cell_type": "code",
   "execution_count": 4,
   "id": "5acb25ca",
   "metadata": {},
   "outputs": [
    {
     "data": {
      "text/plain": [
       "<AxesSubplot:ylabel='Frequency'>"
      ]
     },
     "execution_count": 4,
     "metadata": {},
     "output_type": "execute_result"
    },
    {
     "data": {
      "image/png": "[encoded data removed]",
      "text/plain": [
       "<Figure size 432x288 with 1 Axes>"
      ]
     },
     "metadata": {
      "needs_background": "light"
     },
     "output_type": "display_data"
    }
   ],
   "source": [
    "df['Text'].str.len().plot.hist()"
   ]
  },
  {
   "cell_type": "code",
   "execution_count": 5,
   "id": "c4d9b3d8",
   "metadata": {},
   "outputs": [
    {
     "name": "stdout",
     "output_type": "stream",
     "text": [
      "X tokenized data =  [[   0    0    0    0    0    0    0    0    0    0    0    0    0    0\n",
      "     0    0    0    0    0    0   68   70 1553  127  521  827 4776   65\n",
      "   201  720  273]\n",
      " [   0    0    0    0    0    0    0    0    0    0    0    0    0    0\n",
      "     0    0    0    0    0    0    0    0    0    0    0 2065   33 1231\n",
      "    87    7 4777]\n",
      " [   0    0    0    0    0    0    0    0    0    0    0    0    0    0\n",
      "     0 1778   71 4778  392   49 4779   19  158  438  247    6 4780 4781\n",
      "  4782    9 4783]\n",
      " [   0    0    0    0    0    0    0    0  130  721  212   30    4 3238\n",
      "     2  217    3   47 2530  124  361 1554    1 1123   69    4 1379    7\n",
      "   164 4784 4785]\n",
      " [   0    0    0    0    0    0    0    0    0    0    0    0    0    0\n",
      "     0    0    0    0    0    0    0    0  260  151   60   19    1  496\n",
      "   376   61 1015]]\n"
     ]
    }
   ],
   "source": [
    "# X as tokenize data\n",
    "tokenizer = Tokenizer(num_words=5000)\n",
    "tokenizer.fit_on_texts(df['Text'].values)\n",
    "X = tokenizer.texts_to_sequences(df['Text'].values)\n",
    "X = pad_sequences(X)\n",
    "print(\"X tokenized data = \", X[:5])"
   ]
  },
  {
   "cell_type": "code",
   "execution_count": 6,
   "id": "ab84948c",
   "metadata": {
    "scrolled": true
   },
   "outputs": [
    {
     "name": "stdout",
     "output_type": "stream",
     "text": [
      "-1 [1 0]\n",
      "1 [0 1]\n",
      "-1 [1 0]\n",
      "1 [0 1]\n",
      "1 [0 1]\n",
      "1 [0 1]\n",
      "-1 [1 0]\n",
      "1 [0 1]\n",
      "-1 [1 0]\n",
      "1 [0 1]\n"
     ]
    },
    {
     "data": {
      "text/plain": [
       "[None, None, None, None, None, None, None, None, None, None]"
      ]
     },
     "execution_count": 6,
     "metadata": {},
     "output_type": "execute_result"
    }
   ],
   "source": [
    "# Y as buckets of Sentiment column\n",
    "y = pd.get_dummies(df['Sentiment']).values\n",
    "[print(df['Sentiment'][i], y[i]) for i in range(10, 20)]"
   ]
  },
  {
   "cell_type": "code",
   "execution_count": 62,
   "id": "4fd3cd2e",
   "metadata": {},
   "outputs": [],
   "source": [
    "# split data into train and test\n",
    "X_train, X_test, y_train, y_test = train_test_split(X, y, test_size=0.2, random_state=0)"
   ]
  },
  {
   "cell_type": "code",
   "execution_count": 8,
   "id": "d5a9a67c",
   "metadata": {
    "scrolled": true
   },
   "outputs": [
    {
     "name": "stderr",
     "output_type": "stream",
     "text": [
      "2023-04-11 16:21:45.160972: I tensorflow/core/platform/cpu_feature_guard.cc:193] This TensorFlow binary is optimized with oneAPI Deep Neural Network Library (oneDNN) to use the following CPU instructions in performance-critical operations:  AVX2 FMA\n",
      "To enable them in other operations, rebuild TensorFlow with the appropriate compiler flags.\n"
     ]
    },
    {
     "name": "stdout",
     "output_type": "stream",
     "text": [
      "Model: \"sequential\"\n",
      "_________________________________________________________________\n",
      " Layer (type)                Output Shape              Param #   \n",
      "=================================================================\n",
      " embedding (Embedding)       (None, 31, 256)           1280000   \n",
      "                                                                 \n",
      " dropout (Dropout)           (None, 31, 256)           0         \n",
      "                                                                 \n",
      " lstm (LSTM)                 (None, 31, 256)           525312    \n",
      "                                                                 \n",
      " lstm_1 (LSTM)               (None, 256)               525312    \n",
      "                                                                 \n",
      " dense (Dense)               (None, 2)                 514       \n",
      "                                                                 \n",
      "=================================================================\n",
      "Total params: 2,331,138\n",
      "Trainable params: 2,331,138\n",
      "Non-trainable params: 0\n",
      "_________________________________________________________________\n"
     ]
    }
   ],
   "source": [
    "# lstm model build\n",
    "lstm = Lstm()\n",
    "lstm.build_model(X.shape[1])"
   ]
  },
  {
   "cell_type": "code",
   "execution_count": 9,
   "id": "efbcccb6",
   "metadata": {
    "scrolled": false
   },
   "outputs": [
    {
     "name": "stdout",
     "output_type": "stream",
     "text": [
      "Epoch 1/8\n",
      "145/145 - 76s - loss: 0.5828 - accuracy: 0.6893 - 76s/epoch - 525ms/step\n",
      "Epoch 2/8\n",
      "145/145 - 71s - loss: 0.3640 - accuracy: 0.8396 - 71s/epoch - 491ms/step\n",
      "Epoch 3/8\n",
      "145/145 - 75s - loss: 0.2274 - accuracy: 0.9048 - 75s/epoch - 515ms/step\n",
      "Epoch 4/8\n",
      "145/145 - 60s - loss: 0.1420 - accuracy: 0.9447 - 60s/epoch - 412ms/step\n",
      "Epoch 5/8\n",
      "145/145 - 59s - loss: 0.0955 - accuracy: 0.9635 - 59s/epoch - 410ms/step\n",
      "Epoch 6/8\n",
      "145/145 - 64s - loss: 0.0590 - accuracy: 0.9788 - 64s/epoch - 441ms/step\n",
      "Epoch 7/8\n",
      "145/145 - 62s - loss: 0.0414 - accuracy: 0.9821 - 62s/epoch - 428ms/step\n",
      "Epoch 8/8\n",
      "145/145 - 57s - loss: 0.0391 - accuracy: 0.9864 - 57s/epoch - 393ms/step\n"
     ]
    }
   ],
   "source": [
    "history = lstm.train(X_train, y_train)"
   ]
  },
  {
   "cell_type": "code",
   "execution_count": 45,
   "id": "2c989183",
   "metadata": {
    "scrolled": false
   },
   "outputs": [
    {
     "name": "stdout",
     "output_type": "stream",
     "text": [
      "37/37 [==============================] - 3s 83ms/step\n",
      "LSTM model: \n",
      "Average negative sentiment score = 0.3613467514514923\n",
      "Average positive sentiment score = 0.6386532187461853\n"
     ]
    }
   ],
   "source": [
    "predictions = lstm.predict(X_test)\n",
    "avg_neg = np.mean([prediction[0] for prediction in predictions])\n",
    "avg_pos = np.mean([prediction[1] for prediction in predictions])\n",
    "print(f\"LSTM model: \\nAverage negative sentiment score = {avg_neg}\\nAverage positive sentiment score = {avg_pos}\")"
   ]
  },
  {
   "cell_type": "code",
   "execution_count": 63,
   "id": "9ed67625",
   "metadata": {
    "scrolled": true
   },
   "outputs": [
    {
     "name": "stdout",
     "output_type": "stream",
     "text": [
      "Confusion Mtrix Evaluation for LSTM\n",
      "Confusion Matrix:\n",
      " [[575 136]\n",
      " [162 286]]\n",
      "Accuracy: 0.7428817946505608\n",
      "Recall: 0.6383928571428571\n",
      "Precision: 0.6777251184834123\n",
      "F1 Score: 0.6574712643678161\n"
     ]
    }
   ],
   "source": [
    "#C M\n",
    "y_test_1d = y_test[:,0]\n",
    "y_pred = predictions.round()[:,0]\n",
    "print('Confusion Mtrix Evaluation for LSTM')\n",
    "ConfusionMatrix(y_test_1d,y_pred)"
   ]
  },
  {
   "cell_type": "code",
   "execution_count": 64,
   "id": "db9401f0",
   "metadata": {},
   "outputs": [
    {
     "name": "stdout",
     "output_type": "stream",
     "text": [
      "Positive predictions: 737\n",
      "Negative predictions: 422\n",
      "Real positive: 711\n",
      "Real negative: 448\n"
     ]
    }
   ],
   "source": [
    "pos_count, neg_count = 0, 0\n",
    "real_pos, real_neg = 0, 0\n",
    "for i, prediction in enumerate(predictions):\n",
    "    if np.argmax(prediction)==1:\n",
    "        pos_count += 1\n",
    "    else:\n",
    "        neg_count += 1\n",
    "    if np.argmax(y_test[i])==1:    \n",
    "        real_pos += 1\n",
    "    else:\n",
    "        real_neg +=1\n",
    "\n",
    "print('Positive predictions:', pos_count)\n",
    "print('Negative predictions:', neg_count)\n",
    "\n",
    "print('Real positive:', real_pos)\n",
    "print('Real negative:', real_neg)"
   ]
  },
  {
   "cell_type": "code",
   "execution_count": 65,
   "id": "245f8ffe",
   "metadata": {},
   "outputs": [
    {
     "name": "stdout",
     "output_type": "stream",
     "text": [
      "[0.5827926993370056, 0.3640258312225342, 0.2273852676153183, 0.14198748767375946, 0.09546530991792679, 0.05896330252289772, 0.0413682796061039, 0.03908681496977806]\n"
     ]
    }
   ],
   "source": [
    "print(history.history['loss'], )\n",
    "predictions = [pos_count, neg_count]\n",
    "real = [real_pos, real_neg]\n",
    "labels = ['Positive', 'Negative']"
   ]
  },
  {
   "cell_type": "code",
   "execution_count": 66,
   "id": "0ce766c4",
   "metadata": {},
   "outputs": [
    {
     "data": {
      "image/png": "[encoded data removed]",
      "text/plain": [
       "<Figure size 432x288 with 1 Axes>"
      ]
     },
     "metadata": {
      "needs_background": "light"
     },
     "output_type": "display_data"
    }
   ],
   "source": [
    "x = np.arange(len(labels))\n",
    "width = 0.35 \n",
    "\n",
    "fig, ax = plt.subplots()\n",
    "rects1 = ax.bar(x - width/2, real, width, label='Real')\n",
    "rects2 = ax.bar(x + width/2, predictions, width, label='Predictions')\n",
    "\n",
    "ax.set_ylabel('Scores')\n",
    "ax.set_title('Count of Classifications LSTM')\n",
    "ax.set_xticks(x)\n",
    "ax.set_xticklabels(labels)\n",
    "ax.legend()\n",
    "\n",
    "ax.bar_label(rects1, padding=3)\n",
    "ax.bar_label(rects2, padding=3)\n",
    "\n",
    "fig.tight_layout()\n",
    "plt.show()"
   ]
  },
  {
   "cell_type": "code",
   "execution_count": 67,
   "id": "ba886246",
   "metadata": {
    "scrolled": true
   },
   "outputs": [
    {
     "data": {
      "image/png": "[encoded data removed]",
      "text/plain": [
       "<Figure size 432x288 with 1 Axes>"
      ]
     },
     "metadata": {
      "needs_background": "light"
     },
     "output_type": "display_data"
    }
   ],
   "source": [
    "fig, ax = plt.subplots()\n",
    "loss = history.history['loss']\n",
    "epoch = [item for item in range(1,9)]\n",
    "accuracy = history.history['accuracy']\n",
    "ax.plot(epoch, loss, label = \"Loss\")\n",
    "ax.plot(epoch, accuracy, label = \"Accuracy\")\n",
    "\n",
    "ax.set_xlabel('Epoch')\n",
    "ax.set_title('Accuracy and Loss per epoch LSTM')\n",
    "plt.legend()\n",
    "plt.show()"
   ]
  },
  {
   "cell_type": "code",
   "execution_count": 69,
   "id": "f6ef6951",
   "metadata": {
    "scrolled": true
   },
   "outputs": [
    {
     "name": "stdout",
     "output_type": "stream",
     "text": [
      "Model: \"sequential_1\"\n",
      "_________________________________________________________________\n",
      " Layer (type)                Output Shape              Param #   \n",
      "=================================================================\n",
      " embedding_1 (Embedding)     (None, 31, 256)           1280000   \n",
      "                                                                 \n",
      " dropout_1 (Dropout)         (None, 31, 256)           0         \n",
      "                                                                 \n",
      " gru (GRU)                   (None, 31, 256)           394752    \n",
      "                                                                 \n",
      " gru_1 (GRU)                 (None, 256)               394752    \n",
      "                                                                 \n",
      " dense_1 (Dense)             (None, 2)                 514       \n",
      "                                                                 \n",
      "=================================================================\n",
      "Total params: 2,070,018\n",
      "Trainable params: 2,070,018\n",
      "Non-trainable params: 0\n",
      "_________________________________________________________________\n"
     ]
    }
   ],
   "source": [
    "# gru model build\n",
    "gru = Gru()\n",
    "gru.build_model(X.shape[1])"
   ]
  },
  {
   "cell_type": "code",
   "execution_count": 70,
   "id": "eb75e9b6",
   "metadata": {
    "scrolled": false
   },
   "outputs": [
    {
     "name": "stdout",
     "output_type": "stream",
     "text": [
      "Epoch 1/8\n",
      "145/145 - 49s - loss: 0.5771 - accuracy: 0.6982 - 49s/epoch - 335ms/step\n",
      "Epoch 2/8\n",
      "145/145 - 48s - loss: 0.3482 - accuracy: 0.8497 - 48s/epoch - 328ms/step\n",
      "Epoch 3/8\n",
      "145/145 - 50s - loss: 0.2123 - accuracy: 0.9147 - 50s/epoch - 342ms/step\n",
      "Epoch 4/8\n",
      "145/145 - 50s - loss: 0.1213 - accuracy: 0.9532 - 50s/epoch - 344ms/step\n",
      "Epoch 5/8\n",
      "145/145 - 49s - loss: 0.0803 - accuracy: 0.9698 - 49s/epoch - 341ms/step\n",
      "Epoch 6/8\n",
      "145/145 - 51s - loss: 0.0596 - accuracy: 0.9784 - 51s/epoch - 350ms/step\n",
      "Epoch 7/8\n",
      "145/145 - 50s - loss: 0.0431 - accuracy: 0.9829 - 50s/epoch - 342ms/step\n",
      "Epoch 8/8\n",
      "145/145 - 50s - loss: 0.0389 - accuracy: 0.9853 - 50s/epoch - 343ms/step\n"
     ]
    }
   ],
   "source": [
    "history = gru.train(X_train, y_train)"
   ]
  },
  {
   "cell_type": "code",
   "execution_count": 71,
   "id": "1850138c",
   "metadata": {
    "scrolled": true
   },
   "outputs": [
    {
     "name": "stdout",
     "output_type": "stream",
     "text": [
      "37/37 [==============================] - 3s 59ms/step\n",
      "GRU model: \n",
      "Average negative sentiment score = 0.3819880783557892\n",
      "Average positive sentiment score = 0.6180118918418884\n"
     ]
    }
   ],
   "source": [
    "predictions = gru.predict(X_test)\n",
    "avg_neg = np.mean([prediction[0] for prediction in predictions])\n",
    "avg_pos = np.mean([prediction[1] for prediction in predictions])\n",
    "print(f\"GRU model: \\nAverage negative sentiment score = {avg_neg}\\nAverage positive sentiment score = {avg_pos}\")"
   ]
  },
  {
   "cell_type": "code",
   "execution_count": 73,
   "id": "644a9020",
   "metadata": {
    "scrolled": true
   },
   "outputs": [
    {
     "name": "stdout",
     "output_type": "stream",
     "text": [
      "Confusion Matrix Evaluation for GRU\n",
      "Confusion Matrix:\n",
      " [[568 143]\n",
      " [151 297]]\n",
      "Accuracy: 0.7463330457290768\n",
      "Recall: 0.6629464285714286\n",
      "Precision: 0.675\n",
      "F1 Score: 0.668918918918919\n"
     ]
    }
   ],
   "source": [
    "#Confusion Matrix\n",
    "y_pred = predictions.round()[:,0]\n",
    "print('Confusion Matrix Evaluation for GRU')\n",
    "ConfusionMatrix(y_test_1d,y_pred)"
   ]
  },
  {
   "cell_type": "code",
   "execution_count": 74,
   "id": "161f34e1",
   "metadata": {},
   "outputs": [
    {
     "name": "stdout",
     "output_type": "stream",
     "text": [
      "Positive predictions: 719\n",
      "Negative predictions: 440\n",
      "Real positive: 711\n",
      "Real negative: 448\n"
     ]
    }
   ],
   "source": [
    "pos_count, neg_count = 0, 0\n",
    "real_pos, real_neg = 0, 0\n",
    "for i, prediction in enumerate(predictions):\n",
    "    if np.argmax(prediction)==1:\n",
    "        pos_count += 1\n",
    "    else:\n",
    "        neg_count += 1\n",
    "    if np.argmax(y_test[i])==1:    \n",
    "        real_pos += 1\n",
    "    else:\n",
    "        real_neg +=1\n",
    "\n",
    "print('Positive predictions:', pos_count)\n",
    "print('Negative predictions:', neg_count)\n",
    "\n",
    "print('Real positive:', real_pos)\n",
    "print('Real negative:', real_neg)"
   ]
  },
  {
   "cell_type": "code",
   "execution_count": 75,
   "id": "9f7fd68a",
   "metadata": {},
   "outputs": [
    {
     "name": "stdout",
     "output_type": "stream",
     "text": [
      "[0.5771182775497437, 0.3481897711753845, 0.21228039264678955, 0.12133686244487762, 0.08034484088420868, 0.05959104746580124, 0.04307669773697853, 0.03891975060105324]\n"
     ]
    }
   ],
   "source": [
    "print(history.history['loss'], )\n",
    "predictions = [pos_count, neg_count]\n",
    "real = [real_pos, real_neg]\n",
    "labels = ['Positive', 'Negative']"
   ]
  },
  {
   "cell_type": "code",
   "execution_count": 76,
   "id": "087a7ed3",
   "metadata": {},
   "outputs": [
    {
     "data": {
      "image/png": "[encoded data removed]",
      "text/plain": [
       "<Figure size 432x288 with 1 Axes>"
      ]
     },
     "metadata": {
      "needs_background": "light"
     },
     "output_type": "display_data"
    }
   ],
   "source": [
    "x = np.arange(len(labels))\n",
    "width = 0.35 \n",
    "\n",
    "fig, ax = plt.subplots()\n",
    "rects1 = ax.bar(x - width/2, real, width, label='Real')\n",
    "rects2 = ax.bar(x + width/2, predictions, width, label='Predictions')\n",
    "\n",
    "ax.set_ylabel('Scores')\n",
    "ax.set_title('Count of Classifications GRU')\n",
    "ax.set_xticks(x)\n",
    "ax.set_xticklabels(labels)\n",
    "ax.legend()\n",
    "\n",
    "ax.bar_label(rects1, padding=3)\n",
    "ax.bar_label(rects2, padding=3)\n",
    "\n",
    "fig.tight_layout()\n",
    "plt.show()"
   ]
  },
  {
   "cell_type": "code",
   "execution_count": 77,
   "id": "301a6610",
   "metadata": {
    "scrolled": true
   },
   "outputs": [
    {
     "data": {
      "image/png": "[encoded data removed]",
      "text/plain": [
       "<Figure size 432x288 with 1 Axes>"
      ]
     },
     "metadata": {
      "needs_background": "light"
     },
     "output_type": "display_data"
    }
   ],
   "source": [
    "fig, ax = plt.subplots()\n",
    "loss = history.history['loss']\n",
    "epoch = [item for item in range(1,9)]\n",
    "accuracy = history.history['accuracy']\n",
    "ax.plot(epoch, loss, label = \"Loss\")\n",
    "ax.plot(epoch, accuracy, label = \"Accuracy\")\n",
    "\n",
    "ax.set_xlabel('Epoch')\n",
    "ax.set_title('Accuracy and Loss per epoch GRU')\n",
    "plt.legend()\n",
    "plt.show()"
   ]
  },
  {
   "cell_type": "code",
   "execution_count": 79,
   "id": "1cb5b3f1",
   "metadata": {},
   "outputs": [],
   "source": [
    "from sklearn.ensemble import RandomForestClassifier\n",
    "from sklearn.model_selection import cross_val_score\n",
    "from sklearn.model_selection import KFold\n",
    "from sklearn.svm import SVC\n",
    "from sklearn.preprocessing import StandardScaler\n",
    "from sklearn.pipeline import make_pipeline"
   ]
  },
  {
   "cell_type": "code",
   "execution_count": 80,
   "id": "f7e91875",
   "metadata": {},
   "outputs": [],
   "source": [
    "X_train, X_test, y_train, y_test = train_test_split(X, df['Sentiment'], test_size=0.2, random_state=0)\n",
    "kfold = KFold()"
   ]
  },
  {
   "cell_type": "code",
   "execution_count": 84,
   "id": "a0c73bce",
   "metadata": {},
   "outputs": [
    {
     "name": "stdout",
     "output_type": "stream",
     "text": [
      "Avg cross val score: 0.655656207697559\n",
      "parameters: {'bootstrap': True, 'ccp_alpha': 0.0, 'class_weight': None, 'criterion': 'gini', 'max_depth': None, 'max_features': 'auto', 'max_leaf_nodes': None, 'max_samples': None, 'min_impurity_decrease': 0.0, 'min_impurity_split': None, 'min_samples_leaf': 1, 'min_samples_split': 2, 'min_weight_fraction_leaf': 0.0, 'n_estimators': 100, 'n_jobs': None, 'oob_score': False, 'random_state': 0, 'verbose': 0, 'warm_start': False}\n"
     ]
    }
   ],
   "source": [
    "#Random foreast model\n",
    "rf = RandomForestClassifier(random_state=0)\n",
    "rf.fit(X_train,y_train)\n",
    "print('Avg cross val score:', cross_val_score(rf, X_train, y_train, cv=kfold).mean())\n",
    "print('parameters:',rf.get_params())"
   ]
  },
  {
   "cell_type": "code",
   "execution_count": 85,
   "id": "9d175e1c",
   "metadata": {},
   "outputs": [
    {
     "name": "stdout",
     "output_type": "stream",
     "text": [
      "Confusion Mtrix Evaluation for Random Foreast\n",
      "Confusion Matrix:\n",
      " [[ 64 384]\n",
      " [ 43 668]]\n",
      "Accuracy: 0.631578947368421\n",
      "Recall: 0.939521800281294\n",
      "Precision: 0.6349809885931559\n",
      "F1 Score: 0.7577992058990358\n"
     ]
    }
   ],
   "source": [
    "y_pred = rf.predict(X_test)\n",
    "print('Confusion Mtrix Evaluation for Random Foreast')\n",
    "ConfusionMatrix(y_test,y_pred)"
   ]
  },
  {
   "cell_type": "code",
   "execution_count": 86,
   "id": "35e537a3",
   "metadata": {},
   "outputs": [
    {
     "name": "stdout",
     "output_type": "stream",
     "text": [
      "Avg cross val score: 0.6405446399239517\n",
      "parameters: {'C': 1.0, 'break_ties': False, 'cache_size': 200, 'class_weight': None, 'coef0': 0.0, 'decision_function_shape': 'ovr', 'degree': 3, 'gamma': 'scale', 'kernel': 'rbf', 'max_iter': -1, 'probability': False, 'random_state': 0, 'shrinking': True, 'tol': 0.001, 'verbose': False}\n"
     ]
    }
   ],
   "source": [
    "#SVM model\n",
    "svm = SVC(random_state=0)\n",
    "svm.fit(X_train, y_train)\n",
    "print('Avg cross val score:', cross_val_score(svm, X_train, y_train, cv=kfold).mean())\n",
    "print('parameters:',svm.get_params())"
   ]
  },
  {
   "cell_type": "code",
   "execution_count": 87,
   "id": "13b46f14",
   "metadata": {},
   "outputs": [
    {
     "name": "stdout",
     "output_type": "stream",
     "text": [
      "Confusion Mtrix Evaluation for SVM\n",
      "Confusion Matrix:\n",
      " [[  3 445]\n",
      " [  4 707]]\n",
      "Accuracy: 0.6125970664365833\n",
      "Recall: 0.9943741209563994\n",
      "Precision: 0.6137152777777778\n",
      "F1 Score: 0.7589908749329038\n"
     ]
    }
   ],
   "source": [
    "y_pred = svm.predict(X_test)\n",
    "print('Confusion Mtrix Evaluation for SVM')\n",
    "ConfusionMatrix(y_test,y_pred)"
   ]
  },
  {
   "cell_type": "code",
   "execution_count": null,
   "id": "2d34bb9b",
   "metadata": {},
   "outputs": [],
   "source": []
  }
 ],
 "metadata": {
  "kernelspec": {
   "display_name": "Python 3 (ipykernel)",
   "language": "python",
   "name": "python3"
  },
  "language_info": {
   "codemirror_mode": {
    "name": "ipython",
    "version": 3
   },
   "file_extension": ".py",
   "mimetype": "text/x-python",
   "name": "python",
   "nbconvert_exporter": "python",
   "pygments_lexer": "ipython3",
   "version": "3.9.7"
  }
 },
 "nbformat": 4,
 "nbformat_minor": 5
}
